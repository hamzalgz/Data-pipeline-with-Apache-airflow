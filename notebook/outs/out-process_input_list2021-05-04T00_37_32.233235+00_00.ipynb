{
 "cells": [
  {
   "cell_type": "code",
   "execution_count": 1,
   "id": "a5f2119b",
   "metadata": {
    "execution": {
     "iopub.execute_input": "2021-05-04T00:37:42.965649Z",
     "iopub.status.busy": "2021-05-04T00:37:42.964750Z",
     "iopub.status.idle": "2021-05-04T00:37:42.967986Z",
     "shell.execute_reply": "2021-05-04T00:37:42.967458Z"
    },
    "jupyter": {
     "source_hidden": true
    },
    "papermill": {
     "duration": 0.032102,
     "end_time": "2021-05-04T00:37:42.968129",
     "exception": false,
     "start_time": "2021-05-04T00:37:42.936027",
     "status": "completed"
    },
    "tags": [
     "injected-parameters"
    ]
   },
   "outputs": [],
   "source": [
    "# Parameters\n",
    "msgs = \"Ran from Airflow at 2021-05-04T00:37:32.233235+00:00!\"\n"
   ]
  },
  {
   "cell_type": "code",
   "execution_count": 2,
   "id": "13c6f718",
   "metadata": {
    "execution": {
     "iopub.execute_input": "2021-05-04T00:37:42.987827Z",
     "iopub.status.busy": "2021-05-04T00:37:42.986905Z",
     "iopub.status.idle": "2021-05-04T00:37:43.348059Z",
     "shell.execute_reply": "2021-05-04T00:37:43.348506Z"
    },
    "jupyter": {
     "source_hidden": true
    },
    "papermill": {
     "duration": 0.372237,
     "end_time": "2021-05-04T00:37:43.348669",
     "exception": false,
     "start_time": "2021-05-04T00:37:42.976432",
     "status": "completed"
    },
    "tags": []
   },
   "outputs": [],
   "source": [
    "import pandas as pd\n",
    "import psycopg2\n",
    "import os"
   ]
  },
  {
   "cell_type": "code",
   "execution_count": 3,
   "id": "d9d40102",
   "metadata": {
    "execution": {
     "iopub.execute_input": "2021-05-04T00:37:43.368334Z",
     "iopub.status.busy": "2021-05-04T00:37:43.366741Z",
     "iopub.status.idle": "2021-05-04T00:37:43.370486Z",
     "shell.execute_reply": "2021-05-04T00:37:43.369788Z"
    },
    "jupyter": {
     "source_hidden": true
    },
    "papermill": {
     "duration": 0.015232,
     "end_time": "2021-05-04T00:37:43.370649",
     "exception": false,
     "start_time": "2021-05-04T00:37:43.355417",
     "status": "completed"
    },
    "tags": []
   },
   "outputs": [
    {
     "name": "stdout",
     "output_type": "stream",
     "text": [
      "will process: /home/imade/notebook/input/Liste des 2èmes années DS.xlsx\n"
     ]
    }
   ],
   "source": [
    "#read config file in input\n",
    "with open(\"/home/imade/notebook/input_config.txt\") as f:\n",
    "    input_file=f.readline()\n",
    "print(\"will process:\",input_file)"
   ]
  },
  {
   "cell_type": "code",
   "execution_count": 4,
   "id": "3b19bbfa",
   "metadata": {
    "execution": {
     "iopub.execute_input": "2021-05-04T00:37:43.389159Z",
     "iopub.status.busy": "2021-05-04T00:37:43.388288Z",
     "iopub.status.idle": "2021-05-04T00:37:43.393887Z",
     "shell.execute_reply": "2021-05-04T00:37:43.393469Z"
    },
    "jupyter": {
     "source_hidden": true
    },
    "papermill": {
     "duration": 0.016276,
     "end_time": "2021-05-04T00:37:43.394027",
     "exception": false,
     "start_time": "2021-05-04T00:37:43.377751",
     "status": "completed"
    },
    "tags": []
   },
   "outputs": [],
   "source": [
    "mydb = psycopg2.connect(database=\"students\", user=\"postgres\", password=\"Speaklui1234\", host=\"localhost\", port=\"5432\", options=f'-c search_path=students_db')"
   ]
  },
  {
   "cell_type": "code",
   "execution_count": 5,
   "id": "74c1959a",
   "metadata": {
    "execution": {
     "iopub.execute_input": "2021-05-04T00:37:43.410765Z",
     "iopub.status.busy": "2021-05-04T00:37:43.410036Z",
     "iopub.status.idle": "2021-05-04T00:37:43.412493Z",
     "shell.execute_reply": "2021-05-04T00:37:43.412092Z"
    },
    "jupyter": {
     "source_hidden": true
    },
    "papermill": {
     "duration": 0.011956,
     "end_time": "2021-05-04T00:37:43.412597",
     "exception": false,
     "start_time": "2021-05-04T00:37:43.400641",
     "status": "completed"
    },
    "tags": []
   },
   "outputs": [],
   "source": [
    "# mycursor = mydb.cursor()\n",
    "# table=\"students\"\n",
    "# mycursor.execute(f\"SELECT * FROM information_schema.columns WHERE table_schema = 'students_db' AND table_name   = '{table}' ;\")\n",
    "# myresult = mycursor.fetchall()\n",
    "# for value in myresult:\n",
    "#     print(value[3],\":\",value[7])"
   ]
  },
  {
   "cell_type": "code",
   "execution_count": 6,
   "id": "f0b1542d",
   "metadata": {
    "execution": {
     "iopub.execute_input": "2021-05-04T00:37:43.432678Z",
     "iopub.status.busy": "2021-05-04T00:37:43.431997Z",
     "iopub.status.idle": "2021-05-04T00:37:43.434592Z",
     "shell.execute_reply": "2021-05-04T00:37:43.434164Z"
    },
    "jupyter": {
     "source_hidden": true
    },
    "papermill": {
     "duration": 0.015224,
     "end_time": "2021-05-04T00:37:43.434690",
     "exception": false,
     "start_time": "2021-05-04T00:37:43.419466",
     "status": "completed"
    },
    "tags": []
   },
   "outputs": [],
   "source": [
    "def add_student(prenom,nom,email):\n",
    "    mydb = psycopg2.connect(database=\"students\", user=\"postgres\", password=\"Speaklui1234\", host=\"localhost\", port=\"5432\", options=f'-c search_path=students_db')\n",
    "    mycursor = mydb.cursor()\n",
    "    mycursor.execute(f\"SELECT * FROM students where email ='{email}'\")\n",
    "    myresult = mycursor.fetchall()\n",
    "    if len(myresult) != 0:\n",
    "        return myresult[0][0]\n",
    "    if len(myresult) == 0:\n",
    "        sql = \"INSERT INTO students (first_name,last_name,email) VALUES (%s,%s,%s)\"\n",
    "        val = (prenom,nom,email)\n",
    "        mycursor.execute(sql, val)\n",
    "        mydb.commit()\n",
    "        # print(mycursor.rowcount, \"record inserted.\")\n",
    "        mycursor.execute(f\"SELECT * FROM students where email ='{email}'\")\n",
    "        myresult = mycursor.fetchall()\n",
    "        return myresult[0][0]"
   ]
  },
  {
   "cell_type": "code",
   "execution_count": 7,
   "id": "43cfb06c",
   "metadata": {
    "execution": {
     "iopub.execute_input": "2021-05-04T00:37:43.455547Z",
     "iopub.status.busy": "2021-05-04T00:37:43.454647Z",
     "iopub.status.idle": "2021-05-04T00:37:43.619099Z",
     "shell.execute_reply": "2021-05-04T00:37:43.619541Z"
    },
    "jupyter": {
     "source_hidden": true
    },
    "papermill": {
     "duration": 0.177872,
     "end_time": "2021-05-04T00:37:43.619710",
     "exception": false,
     "start_time": "2021-05-04T00:37:43.441838",
     "status": "completed"
    },
    "scrolled": true,
    "tags": []
   },
   "outputs": [
    {
     "data": {
      "text/html": [
       "<div>\n",
       "<style scoped>\n",
       "    .dataframe tbody tr th:only-of-type {\n",
       "        vertical-align: middle;\n",
       "    }\n",
       "\n",
       "    .dataframe tbody tr th {\n",
       "        vertical-align: top;\n",
       "    }\n",
       "\n",
       "    .dataframe thead th {\n",
       "        text-align: right;\n",
       "    }\n",
       "</style>\n",
       "<table border=\"1\" class=\"dataframe\">\n",
       "  <thead>\n",
       "    <tr style=\"text-align: right;\">\n",
       "      <th></th>\n",
       "      <th>prenom</th>\n",
       "      <th>nom</th>\n",
       "      <th>email</th>\n",
       "    </tr>\n",
       "  </thead>\n",
       "  <tbody>\n",
       "    <tr>\n",
       "      <th>0</th>\n",
       "      <td>Abdelakbir</td>\n",
       "      <td>MENANI</td>\n",
       "      <td>A.MENANI@insea.ac.ma</td>\n",
       "    </tr>\n",
       "    <tr>\n",
       "      <th>1</th>\n",
       "      <td>Abdoul</td>\n",
       "      <td>Madjid SANOUSSI LABO</td>\n",
       "      <td>A.Madjid@insea.ac.ma</td>\n",
       "    </tr>\n",
       "    <tr>\n",
       "      <th>2</th>\n",
       "      <td>Amina</td>\n",
       "      <td>EZZOUINE</td>\n",
       "      <td>A.EZZOUINE@insea.ac.ma</td>\n",
       "    </tr>\n",
       "    <tr>\n",
       "      <th>3</th>\n",
       "      <td>Amine</td>\n",
       "      <td>AJARRAY</td>\n",
       "      <td>A.AJARRAY@insea.ac.ma</td>\n",
       "    </tr>\n",
       "    <tr>\n",
       "      <th>4</th>\n",
       "      <td>Amine</td>\n",
       "      <td>CHEDDAD</td>\n",
       "      <td>A.CHEDDAD@insea.ac.ma</td>\n",
       "    </tr>\n",
       "    <tr>\n",
       "      <th>5</th>\n",
       "      <td>Amine</td>\n",
       "      <td>ELOMAIRI</td>\n",
       "      <td>A.ELOMAIRI@insea.ac.ma</td>\n",
       "    </tr>\n",
       "    <tr>\n",
       "      <th>6</th>\n",
       "      <td>Andre</td>\n",
       "      <td>SINARE</td>\n",
       "      <td>A.SINARE@insea.ac.ma</td>\n",
       "    </tr>\n",
       "    <tr>\n",
       "      <th>7</th>\n",
       "      <td>Asma</td>\n",
       "      <td>OUSSAR</td>\n",
       "      <td>A.OUSSAR@insea.ac.ma</td>\n",
       "    </tr>\n",
       "    <tr>\n",
       "      <th>8</th>\n",
       "      <td>Aymane</td>\n",
       "      <td>HAMDI</td>\n",
       "      <td>A.HAMDI@insea.ac.ma</td>\n",
       "    </tr>\n",
       "    <tr>\n",
       "      <th>9</th>\n",
       "      <td>Ayoub</td>\n",
       "      <td>ELHADINE</td>\n",
       "      <td>A.ELHADINE@insea.ac.ma</td>\n",
       "    </tr>\n",
       "    <tr>\n",
       "      <th>10</th>\n",
       "      <td>Chaimaa</td>\n",
       "      <td>BELKARKOR</td>\n",
       "      <td>C.BELKARKOR@insea.ac.ma</td>\n",
       "    </tr>\n",
       "    <tr>\n",
       "      <th>11</th>\n",
       "      <td>Chaimae</td>\n",
       "      <td>BENALLAL HASSANI</td>\n",
       "      <td>C.BENALLAL@insea.ac.ma</td>\n",
       "    </tr>\n",
       "    <tr>\n",
       "      <th>12</th>\n",
       "      <td>Hajar</td>\n",
       "      <td>CHAFAI</td>\n",
       "      <td>H.CHAFAI@insea.ac.ma</td>\n",
       "    </tr>\n",
       "    <tr>\n",
       "      <th>13</th>\n",
       "      <td>Hajar</td>\n",
       "      <td>HOUMANE</td>\n",
       "      <td>H.HOUMANE@insea.ac.ma</td>\n",
       "    </tr>\n",
       "    <tr>\n",
       "      <th>14</th>\n",
       "      <td>Hamza</td>\n",
       "      <td>DAH</td>\n",
       "      <td>H.DAH@insea.ac.ma</td>\n",
       "    </tr>\n",
       "    <tr>\n",
       "      <th>15</th>\n",
       "      <td>Hamza</td>\n",
       "      <td>LAGRAMEZ</td>\n",
       "      <td>H.LAGRAMEZ@insea.ac.ma</td>\n",
       "    </tr>\n",
       "    <tr>\n",
       "      <th>16</th>\n",
       "      <td>Ibtihal</td>\n",
       "      <td>MOURAD</td>\n",
       "      <td>I.MOURAD@insea.ac.ma</td>\n",
       "    </tr>\n",
       "    <tr>\n",
       "      <th>17</th>\n",
       "      <td>Idrissa</td>\n",
       "      <td>KONKOBO</td>\n",
       "      <td>I.KONKOBO@insea.ac.ma</td>\n",
       "    </tr>\n",
       "    <tr>\n",
       "      <th>18</th>\n",
       "      <td>Imane</td>\n",
       "      <td>BELMEZOUAR</td>\n",
       "      <td>I.BELMEZOUAR@insea.ac.ma</td>\n",
       "    </tr>\n",
       "    <tr>\n",
       "      <th>19</th>\n",
       "      <td>Kawtar</td>\n",
       "      <td>BENSETTI</td>\n",
       "      <td>K.BENSETTI@insea.ac.ma</td>\n",
       "    </tr>\n",
       "    <tr>\n",
       "      <th>20</th>\n",
       "      <td>Youssef</td>\n",
       "      <td>Amine KHALLOUQ</td>\n",
       "      <td>Y.Amine@insea.ac.ma</td>\n",
       "    </tr>\n",
       "    <tr>\n",
       "      <th>21</th>\n",
       "      <td>Mohamed</td>\n",
       "      <td>AMALLAH</td>\n",
       "      <td>M.AMALLAH@insea.ac.ma</td>\n",
       "    </tr>\n",
       "    <tr>\n",
       "      <th>22</th>\n",
       "      <td>Mohamed</td>\n",
       "      <td>AGOURAM</td>\n",
       "      <td>M.AGOURAM@insea.ac.ma</td>\n",
       "    </tr>\n",
       "    <tr>\n",
       "      <th>23</th>\n",
       "      <td>Moussa</td>\n",
       "      <td>SIDIBÉ</td>\n",
       "      <td>M.SIDIBÉ@insea.ac.ma</td>\n",
       "    </tr>\n",
       "    <tr>\n",
       "      <th>24</th>\n",
       "      <td>Nohaila</td>\n",
       "      <td>CHAHBOUN</td>\n",
       "      <td>N.CHAHBOUN@insea.ac.ma</td>\n",
       "    </tr>\n",
       "    <tr>\n",
       "      <th>25</th>\n",
       "      <td>Rida</td>\n",
       "      <td>OUHMIZ</td>\n",
       "      <td>R.OUHMIZ@insea.ac.ma</td>\n",
       "    </tr>\n",
       "    <tr>\n",
       "      <th>26</th>\n",
       "      <td>Saifeddine</td>\n",
       "      <td>ELHAIRECH</td>\n",
       "      <td>S.ELHAIRECH@insea.ac.ma</td>\n",
       "    </tr>\n",
       "    <tr>\n",
       "      <th>27</th>\n",
       "      <td>Soukaina</td>\n",
       "      <td>DAOUAJI</td>\n",
       "      <td>S.DAOUAJI@insea.ac.ma</td>\n",
       "    </tr>\n",
       "    <tr>\n",
       "      <th>28</th>\n",
       "      <td>Tarik</td>\n",
       "      <td>MAJJATI</td>\n",
       "      <td>T.MAJJATI@insea.ac.ma</td>\n",
       "    </tr>\n",
       "    <tr>\n",
       "      <th>29</th>\n",
       "      <td>Yasmine</td>\n",
       "      <td>ELHILALI</td>\n",
       "      <td>Y.ELHILALI@insea.ac.ma</td>\n",
       "    </tr>\n",
       "    <tr>\n",
       "      <th>30</th>\n",
       "      <td>Yassine</td>\n",
       "      <td>AMAGHOUSS</td>\n",
       "      <td>Y.AMAGHOUSS@insea.ac.ma</td>\n",
       "    </tr>\n",
       "    <tr>\n",
       "      <th>31</th>\n",
       "      <td>Yassine</td>\n",
       "      <td>SADKI</td>\n",
       "      <td>Y.SADKI@insea.ac.ma</td>\n",
       "    </tr>\n",
       "  </tbody>\n",
       "</table>\n",
       "</div>"
      ],
      "text/plain": [
       "        prenom                   nom                     email\n",
       "0   Abdelakbir                MENANI      A.MENANI@insea.ac.ma\n",
       "1       Abdoul  Madjid SANOUSSI LABO      A.Madjid@insea.ac.ma\n",
       "2        Amina              EZZOUINE    A.EZZOUINE@insea.ac.ma\n",
       "3        Amine               AJARRAY     A.AJARRAY@insea.ac.ma\n",
       "4        Amine               CHEDDAD     A.CHEDDAD@insea.ac.ma\n",
       "5        Amine              ELOMAIRI    A.ELOMAIRI@insea.ac.ma\n",
       "6        Andre                SINARE      A.SINARE@insea.ac.ma\n",
       "7         Asma                OUSSAR      A.OUSSAR@insea.ac.ma\n",
       "8       Aymane                 HAMDI       A.HAMDI@insea.ac.ma\n",
       "9        Ayoub              ELHADINE    A.ELHADINE@insea.ac.ma\n",
       "10     Chaimaa             BELKARKOR   C.BELKARKOR@insea.ac.ma\n",
       "11     Chaimae      BENALLAL HASSANI    C.BENALLAL@insea.ac.ma\n",
       "12       Hajar                CHAFAI      H.CHAFAI@insea.ac.ma\n",
       "13       Hajar               HOUMANE     H.HOUMANE@insea.ac.ma\n",
       "14       Hamza                   DAH         H.DAH@insea.ac.ma\n",
       "15       Hamza              LAGRAMEZ    H.LAGRAMEZ@insea.ac.ma\n",
       "16     Ibtihal                MOURAD      I.MOURAD@insea.ac.ma\n",
       "17     Idrissa               KONKOBO     I.KONKOBO@insea.ac.ma\n",
       "18       Imane            BELMEZOUAR  I.BELMEZOUAR@insea.ac.ma\n",
       "19      Kawtar              BENSETTI    K.BENSETTI@insea.ac.ma\n",
       "20     Youssef        Amine KHALLOUQ       Y.Amine@insea.ac.ma\n",
       "21     Mohamed               AMALLAH     M.AMALLAH@insea.ac.ma\n",
       "22     Mohamed               AGOURAM     M.AGOURAM@insea.ac.ma\n",
       "23      Moussa                SIDIBÉ      M.SIDIBÉ@insea.ac.ma\n",
       "24     Nohaila              CHAHBOUN    N.CHAHBOUN@insea.ac.ma\n",
       "25        Rida                OUHMIZ      R.OUHMIZ@insea.ac.ma\n",
       "26  Saifeddine             ELHAIRECH   S.ELHAIRECH@insea.ac.ma\n",
       "27    Soukaina               DAOUAJI     S.DAOUAJI@insea.ac.ma\n",
       "28       Tarik               MAJJATI     T.MAJJATI@insea.ac.ma\n",
       "29     Yasmine              ELHILALI    Y.ELHILALI@insea.ac.ma\n",
       "30     Yassine             AMAGHOUSS   Y.AMAGHOUSS@insea.ac.ma\n",
       "31     Yassine                 SADKI       Y.SADKI@insea.ac.ma"
      ]
     },
     "execution_count": 7,
     "metadata": {},
     "output_type": "execute_result"
    }
   ],
   "source": [
    "list_students = pd.read_excel(f\"{input_file}\",engine=\"openpyxl\")\n",
    "nom=[]\n",
    "prenom=[]\n",
    "email=[]\n",
    "for index, row in list_students.iterrows():\n",
    "    Nom_=row['Nom']\n",
    "    prenom_ = Nom_.split(\" \")[0]\n",
    "    nom_ = Nom_.replace(prenom_+\" \",\"\")\n",
    "    email_=f\"{prenom_[0]}.{nom_.split(' ')[0]}@insea.ac.ma\"\n",
    "    \n",
    "    nom.append(nom_)\n",
    "    prenom.append(prenom_)\n",
    "    email.append(email_)\n",
    "    \n",
    "list_students[\"prenom\"]=prenom\n",
    "list_students[\"nom\"] = nom\n",
    "list_students[\"email\"]=email\n",
    "del list_students['Nom']\n",
    "list_students"
   ]
  },
  {
   "cell_type": "code",
   "execution_count": 8,
   "id": "3a8d07a3",
   "metadata": {
    "execution": {
     "iopub.execute_input": "2021-05-04T00:37:43.640813Z",
     "iopub.status.busy": "2021-05-04T00:37:43.639955Z",
     "iopub.status.idle": "2021-05-04T00:37:43.772417Z",
     "shell.execute_reply": "2021-05-04T00:37:43.771845Z"
    },
    "jupyter": {
     "source_hidden": true
    },
    "papermill": {
     "duration": 0.144815,
     "end_time": "2021-05-04T00:37:43.772539",
     "exception": false,
     "start_time": "2021-05-04T00:37:43.627724",
     "status": "completed"
    },
    "scrolled": true,
    "tags": []
   },
   "outputs": [
    {
     "name": "stdout",
     "output_type": "stream",
     "text": [
      "1\n",
      "2\n",
      "3\n",
      "4\n",
      "5\n",
      "6\n",
      "7\n",
      "8\n",
      "9\n",
      "10\n",
      "11\n",
      "12\n",
      "13\n",
      "14\n",
      "15\n",
      "16\n",
      "17\n",
      "18\n",
      "19\n",
      "20\n",
      "21\n",
      "22\n",
      "23\n",
      "24\n",
      "25\n",
      "26\n",
      "27\n",
      "28\n",
      "29\n",
      "30\n",
      "31\n",
      "32\n"
     ]
    }
   ],
   "source": [
    "for index, row in list_students.iterrows():\n",
    "    nom=row['nom']\n",
    "    prenom=row['prenom']\n",
    "    email=row['email']\n",
    "    id_student=add_student(prenom,nom,email)\n",
    "    print(id_student)"
   ]
  },
  {
   "cell_type": "code",
   "execution_count": 9,
   "id": "d3159d12",
   "metadata": {
    "execution": {
     "iopub.execute_input": "2021-05-04T00:37:43.797125Z",
     "iopub.status.busy": "2021-05-04T00:37:43.796256Z",
     "iopub.status.idle": "2021-05-04T00:37:43.808508Z",
     "shell.execute_reply": "2021-05-04T00:37:43.808004Z"
    },
    "jupyter": {
     "source_hidden": true
    },
    "papermill": {
     "duration": 0.027889,
     "end_time": "2021-05-04T00:37:43.808612",
     "exception": false,
     "start_time": "2021-05-04T00:37:43.780723",
     "status": "completed"
    },
    "tags": []
   },
   "outputs": [],
   "source": [
    "list_students.to_excel(f\"/home/imade/notebook/output/{input_file.split('/')[-1]}\",engine=\"openpyxl\",index=False)"
   ]
  },
  {
   "cell_type": "code",
   "execution_count": 10,
   "id": "0067bcb5",
   "metadata": {
    "execution": {
     "iopub.execute_input": "2021-05-04T00:37:43.831268Z",
     "iopub.status.busy": "2021-05-04T00:37:43.830373Z",
     "iopub.status.idle": "2021-05-04T00:37:43.837735Z",
     "shell.execute_reply": "2021-05-04T00:37:43.838150Z"
    },
    "jupyter": {
     "source_hidden": true
    },
    "papermill": {
     "duration": 0.021644,
     "end_time": "2021-05-04T00:37:43.838272",
     "exception": false,
     "start_time": "2021-05-04T00:37:43.816628",
     "status": "completed"
    },
    "tags": []
   },
   "outputs": [
    {
     "data": {
      "text/plain": [
       "0"
      ]
     },
     "execution_count": 10,
     "metadata": {},
     "output_type": "execute_result"
    }
   ],
   "source": [
    "os.system(f'mv \"{input_file}\" \"/home/imade/notebook/processed/\"')"
   ]
  }
 ],
 "metadata": {
  "kernelspec": {
   "display_name": "Python 3",
   "language": "python",
   "name": "python3"
  },
  "language_info": {
   "codemirror_mode": {
    "name": "ipython",
    "version": 3
   },
   "file_extension": ".py",
   "mimetype": "text/x-python",
   "name": "python",
   "nbconvert_exporter": "python",
   "pygments_lexer": "ipython3",
   "version": "3.6.9"
  },
  "papermill": {
   "default_parameters": {},
   "duration": 2.529564,
   "end_time": "2021-05-04T00:37:44.155067",
   "environment_variables": {},
   "exception": null,
   "input_path": "/home/imade/notebook/process_input_list.ipynb",
   "output_path": "/home/imade/notebook//outs/out-process_input_list2021-05-04T00:37:32.233235+00:00.ipynb",
   "parameters": {
    "msgs": "Ran from Airflow at 2021-05-04T00:37:32.233235+00:00!"
   },
   "start_time": "2021-05-04T00:37:41.625503",
   "version": "2.3.3"
  }
 },
 "nbformat": 4,
 "nbformat_minor": 5
}